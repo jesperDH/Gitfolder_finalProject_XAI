{
 "cells": [
  {
   "cell_type": "markdown",
   "id": "d366e0dc",
   "metadata": {},
   "source": [
    "__packages necessary:__ (comment out if done through terminal)"
   ]
  },
  {
   "cell_type": "code",
   "execution_count": 1,
   "id": "10430f5d",
   "metadata": {},
   "outputs": [
    {
     "name": "stdout",
     "output_type": "stream",
     "text": [
      "Requirement already satisfied: numba==0.60.0 in c:\\users\\jespe\\appdata\\roaming\\python\\python39\\site-packages (0.60.0)\n",
      "Requirement already satisfied: llvmlite==0.43.0 in c:\\users\\jespe\\appdata\\roaming\\python\\python39\\site-packages (0.43.0)\n",
      "Requirement already satisfied: numpy<2.1,>=1.22 in c:\\users\\jespe\\apps\\lib\\site-packages (from numba==0.60.0) (1.26.4)\n",
      "Note: you may need to restart the kernel to use updated packages.\n"
     ]
    },
    {
     "name": "stderr",
     "output_type": "stream",
     "text": [
      "WARNING: Ignoring invalid distribution -cikit-learn (c:\\users\\jespe\\apps\\lib\\site-packages)\n",
      "WARNING: Ignoring invalid distribution -cikit-learn (c:\\users\\jespe\\apps\\lib\\site-packages)\n"
     ]
    },
    {
     "name": "stdout",
     "output_type": "stream",
     "text": [
      "Requirement already satisfied: pandas==2.2.2 in c:\\users\\jespe\\apps\\lib\\site-packages (2.2.2)\n",
      "Requirement already satisfied: numpy>=1.22.4 in c:\\users\\jespe\\apps\\lib\\site-packages (from pandas==2.2.2) (1.26.4)\n",
      "Requirement already satisfied: python-dateutil>=2.8.2 in c:\\users\\jespe\\apps\\lib\\site-packages (from pandas==2.2.2) (2.8.2)\n",
      "Requirement already satisfied: pytz>=2020.1 in c:\\users\\jespe\\apps\\lib\\site-packages (from pandas==2.2.2) (2022.1)\n",
      "Requirement already satisfied: tzdata>=2022.7 in c:\\users\\jespe\\apps\\lib\\site-packages (from pandas==2.2.2) (2024.1)\n",
      "Requirement already satisfied: six>=1.5 in c:\\users\\jespe\\apps\\lib\\site-packages (from python-dateutil>=2.8.2->pandas==2.2.2) (1.16.0)\n",
      "Note: you may need to restart the kernel to use updated packages.\n"
     ]
    },
    {
     "name": "stderr",
     "output_type": "stream",
     "text": [
      "WARNING: Ignoring invalid distribution -cikit-learn (c:\\users\\jespe\\apps\\lib\\site-packages)\n",
      "WARNING: Ignoring invalid distribution -cikit-learn (c:\\users\\jespe\\apps\\lib\\site-packages)\n",
      "WARNING: Ignoring invalid distribution -cikit-learn (c:\\users\\jespe\\apps\\lib\\site-packages)\n"
     ]
    },
    {
     "name": "stdout",
     "output_type": "stream",
     "text": [
      "Requirement already satisfied: tqdm==4.67.1 in c:\\users\\jespe\\apps\\lib\\site-packages (4.67.1)\n",
      "Requirement already satisfied: colorama in c:\\users\\jespe\\apps\\lib\\site-packages (from tqdm==4.67.1) (0.4.6)\n",
      "Note: you may need to restart the kernel to use updated packages.\n"
     ]
    },
    {
     "name": "stderr",
     "output_type": "stream",
     "text": [
      "WARNING: Ignoring invalid distribution -cikit-learn (c:\\users\\jespe\\apps\\lib\\site-packages)\n",
      "WARNING: Ignoring invalid distribution -cikit-learn (c:\\users\\jespe\\apps\\lib\\site-packages)\n",
      "WARNING: Ignoring invalid distribution -cikit-learn (c:\\users\\jespe\\apps\\lib\\site-packages)\n"
     ]
    },
    {
     "name": "stdout",
     "output_type": "stream",
     "text": [
      "Requirement already satisfied: scikit-learn==1.6.1 in c:\\users\\jespe\\apps\\lib\\site-packages (1.6.1)\n",
      "Requirement already satisfied: numpy>=1.19.5 in c:\\users\\jespe\\apps\\lib\\site-packages (from scikit-learn==1.6.1) (1.26.4)\n",
      "Requirement already satisfied: scipy>=1.6.0 in c:\\users\\jespe\\apps\\lib\\site-packages (from scikit-learn==1.6.1) (1.13.1)\n",
      "Requirement already satisfied: joblib>=1.2.0 in c:\\users\\jespe\\apps\\lib\\site-packages (from scikit-learn==1.6.1) (1.4.2)\n",
      "Requirement already satisfied: threadpoolctl>=3.1.0 in c:\\users\\jespe\\apps\\lib\\site-packages (from scikit-learn==1.6.1) (3.6.0)\n",
      "Note: you may need to restart the kernel to use updated packages.\n"
     ]
    },
    {
     "name": "stderr",
     "output_type": "stream",
     "text": [
      "WARNING: Ignoring invalid distribution -cikit-learn (c:\\users\\jespe\\apps\\lib\\site-packages)\n",
      "WARNING: Ignoring invalid distribution -cikit-learn (c:\\users\\jespe\\apps\\lib\\site-packages)\n",
      "WARNING: Ignoring invalid distribution -cikit-learn (c:\\users\\jespe\\apps\\lib\\site-packages)\n"
     ]
    },
    {
     "name": "stdout",
     "output_type": "stream",
     "text": [
      "Requirement already satisfied: torch in c:\\users\\jespe\\apps\\lib\\site-packages (2.1.0)\n",
      "Requirement already satisfied: filelock in c:\\users\\jespe\\apps\\lib\\site-packages (from torch) (3.6.0)\n",
      "Requirement already satisfied: typing-extensions in c:\\users\\jespe\\apps\\lib\\site-packages (from torch) (4.10.0)\n",
      "Requirement already satisfied: sympy in c:\\users\\jespe\\apps\\lib\\site-packages (from torch) (1.13.1)\n",
      "Requirement already satisfied: networkx in c:\\users\\jespe\\apps\\lib\\site-packages (from torch) (2.8.4)\n",
      "Requirement already satisfied: jinja2 in c:\\users\\jespe\\apps\\lib\\site-packages (from torch) (2.11.3)\n",
      "Requirement already satisfied: fsspec in c:\\users\\jespe\\apps\\lib\\site-packages (from torch) (2025.3.2)\n",
      "Requirement already satisfied: MarkupSafe>=0.23 in c:\\users\\jespe\\apps\\lib\\site-packages (from jinja2->torch) (2.0.1)\n",
      "Requirement already satisfied: mpmath<1.4,>=1.1.0 in c:\\users\\jespe\\apps\\lib\\site-packages (from sympy->torch) (1.2.1)\n",
      "Note: you may need to restart the kernel to use updated packages.\n"
     ]
    },
    {
     "name": "stderr",
     "output_type": "stream",
     "text": [
      "WARNING: Ignoring invalid distribution -cikit-learn (c:\\users\\jespe\\apps\\lib\\site-packages)\n",
      "WARNING: Ignoring invalid distribution -cikit-learn (c:\\users\\jespe\\apps\\lib\\site-packages)\n",
      "WARNING: Ignoring invalid distribution -cikit-learn (c:\\users\\jespe\\apps\\lib\\site-packages)\n"
     ]
    },
    {
     "name": "stdout",
     "output_type": "stream",
     "text": [
      "Requirement already satisfied: tensorflow==2.18.0 in c:\\users\\jespe\\apps\\lib\\site-packages (2.18.0)\n",
      "Requirement already satisfied: tensorflow-intel==2.18.0 in c:\\users\\jespe\\apps\\lib\\site-packages (from tensorflow==2.18.0) (2.18.0)\n",
      "Requirement already satisfied: absl-py>=1.0.0 in c:\\users\\jespe\\apps\\lib\\site-packages (from tensorflow-intel==2.18.0->tensorflow==2.18.0) (2.1.0)\n",
      "Requirement already satisfied: astunparse>=1.6.0 in c:\\users\\jespe\\apps\\lib\\site-packages (from tensorflow-intel==2.18.0->tensorflow==2.18.0) (1.6.3)\n",
      "Requirement already satisfied: flatbuffers>=24.3.25 in c:\\users\\jespe\\apps\\lib\\site-packages (from tensorflow-intel==2.18.0->tensorflow==2.18.0) (25.2.10)\n",
      "Requirement already satisfied: gast!=0.5.0,!=0.5.1,!=0.5.2,>=0.2.1 in c:\\users\\jespe\\apps\\lib\\site-packages (from tensorflow-intel==2.18.0->tensorflow==2.18.0) (0.6.0)\n",
      "Requirement already satisfied: google-pasta>=0.1.1 in c:\\users\\jespe\\apps\\lib\\site-packages (from tensorflow-intel==2.18.0->tensorflow==2.18.0) (0.2.0)\n",
      "Requirement already satisfied: libclang>=13.0.0 in c:\\users\\jespe\\apps\\lib\\site-packages (from tensorflow-intel==2.18.0->tensorflow==2.18.0) (18.1.1)\n",
      "Requirement already satisfied: opt-einsum>=2.3.2 in c:\\users\\jespe\\apps\\lib\\site-packages (from tensorflow-intel==2.18.0->tensorflow==2.18.0) (3.4.0)\n",
      "Requirement already satisfied: packaging in c:\\users\\jespe\\apps\\lib\\site-packages (from tensorflow-intel==2.18.0->tensorflow==2.18.0) (24.0)\n",
      "Requirement already satisfied: protobuf!=4.21.0,!=4.21.1,!=4.21.2,!=4.21.3,!=4.21.4,!=4.21.5,<6.0.0dev,>=3.20.3 in c:\\users\\jespe\\apps\\lib\\site-packages (from tensorflow-intel==2.18.0->tensorflow==2.18.0) (5.29.3)\n",
      "Requirement already satisfied: requests<3,>=2.21.0 in c:\\users\\jespe\\apps\\lib\\site-packages (from tensorflow-intel==2.18.0->tensorflow==2.18.0) (2.28.1)\n",
      "Requirement already satisfied: setuptools in c:\\users\\jespe\\apps\\lib\\site-packages (from tensorflow-intel==2.18.0->tensorflow==2.18.0) (80.9.0)\n",
      "Requirement already satisfied: six>=1.12.0 in c:\\users\\jespe\\apps\\lib\\site-packages (from tensorflow-intel==2.18.0->tensorflow==2.18.0) (1.16.0)\n",
      "Requirement already satisfied: termcolor>=1.1.0 in c:\\users\\jespe\\apps\\lib\\site-packages (from tensorflow-intel==2.18.0->tensorflow==2.18.0) (2.5.0)\n",
      "Requirement already satisfied: typing-extensions>=3.6.6 in c:\\users\\jespe\\apps\\lib\\site-packages (from tensorflow-intel==2.18.0->tensorflow==2.18.0) (4.10.0)\n",
      "Requirement already satisfied: wrapt>=1.11.0 in c:\\users\\jespe\\apps\\lib\\site-packages (from tensorflow-intel==2.18.0->tensorflow==2.18.0) (1.14.1)\n",
      "Requirement already satisfied: grpcio<2.0,>=1.24.3 in c:\\users\\jespe\\apps\\lib\\site-packages (from tensorflow-intel==2.18.0->tensorflow==2.18.0) (1.70.0)\n",
      "Requirement already satisfied: tensorboard<2.19,>=2.18 in c:\\users\\jespe\\apps\\lib\\site-packages (from tensorflow-intel==2.18.0->tensorflow==2.18.0) (2.18.0)\n",
      "Requirement already satisfied: keras>=3.5.0 in c:\\users\\jespe\\apps\\lib\\site-packages (from tensorflow-intel==2.18.0->tensorflow==2.18.0) (3.8.0)\n",
      "Requirement already satisfied: numpy<2.1.0,>=1.26.0 in c:\\users\\jespe\\apps\\lib\\site-packages (from tensorflow-intel==2.18.0->tensorflow==2.18.0) (1.26.4)\n",
      "Requirement already satisfied: h5py>=3.11.0 in c:\\users\\jespe\\apps\\lib\\site-packages (from tensorflow-intel==2.18.0->tensorflow==2.18.0) (3.13.0)\n",
      "Requirement already satisfied: ml-dtypes<0.5.0,>=0.4.0 in c:\\users\\jespe\\apps\\lib\\site-packages (from tensorflow-intel==2.18.0->tensorflow==2.18.0) (0.4.1)\n",
      "Requirement already satisfied: tensorflow-io-gcs-filesystem>=0.23.1 in c:\\users\\jespe\\apps\\lib\\site-packages (from tensorflow-intel==2.18.0->tensorflow==2.18.0) (0.31.0)\n",
      "Requirement already satisfied: charset-normalizer<3,>=2 in c:\\users\\jespe\\apps\\lib\\site-packages (from requests<3,>=2.21.0->tensorflow-intel==2.18.0->tensorflow==2.18.0) (2.0.4)\n",
      "Requirement already satisfied: idna<4,>=2.5 in c:\\users\\jespe\\apps\\lib\\site-packages (from requests<3,>=2.21.0->tensorflow-intel==2.18.0->tensorflow==2.18.0) (3.3)\n",
      "Requirement already satisfied: urllib3<1.27,>=1.21.1 in c:\\users\\jespe\\apps\\lib\\site-packages (from requests<3,>=2.21.0->tensorflow-intel==2.18.0->tensorflow==2.18.0) (1.26.11)\n",
      "Requirement already satisfied: certifi>=2017.4.17 in c:\\users\\jespe\\apps\\lib\\site-packages (from requests<3,>=2.21.0->tensorflow-intel==2.18.0->tensorflow==2.18.0) (2022.9.14)\n",
      "Requirement already satisfied: markdown>=2.6.8 in c:\\users\\jespe\\apps\\lib\\site-packages (from tensorboard<2.19,>=2.18->tensorflow-intel==2.18.0->tensorflow==2.18.0) (3.3.4)\n",
      "Requirement already satisfied: tensorboard-data-server<0.8.0,>=0.7.0 in c:\\users\\jespe\\apps\\lib\\site-packages (from tensorboard<2.19,>=2.18->tensorflow-intel==2.18.0->tensorflow==2.18.0) (0.7.2)\n",
      "Requirement already satisfied: werkzeug>=1.0.1 in c:\\users\\jespe\\apps\\lib\\site-packages (from tensorboard<2.19,>=2.18->tensorflow-intel==2.18.0->tensorflow==2.18.0) (2.0.3)\n",
      "Requirement already satisfied: wheel<1.0,>=0.23.0 in c:\\users\\jespe\\apps\\lib\\site-packages (from astunparse>=1.6.0->tensorflow-intel==2.18.0->tensorflow==2.18.0) (0.37.1)\n",
      "Requirement already satisfied: rich in c:\\users\\jespe\\apps\\lib\\site-packages (from keras>=3.5.0->tensorflow-intel==2.18.0->tensorflow==2.18.0) (13.9.4)\n",
      "Requirement already satisfied: namex in c:\\users\\jespe\\apps\\lib\\site-packages (from keras>=3.5.0->tensorflow-intel==2.18.0->tensorflow==2.18.0) (0.0.8)\n",
      "Requirement already satisfied: optree in c:\\users\\jespe\\apps\\lib\\site-packages (from keras>=3.5.0->tensorflow-intel==2.18.0->tensorflow==2.18.0) (0.14.0)\n",
      "Requirement already satisfied: markdown-it-py>=2.2.0 in c:\\users\\jespe\\apps\\lib\\site-packages (from rich->keras>=3.5.0->tensorflow-intel==2.18.0->tensorflow==2.18.0) (3.0.0)\n",
      "Requirement already satisfied: pygments<3.0.0,>=2.13.0 in c:\\users\\jespe\\apps\\lib\\site-packages (from rich->keras>=3.5.0->tensorflow-intel==2.18.0->tensorflow==2.18.0) (2.19.1)\n",
      "Requirement already satisfied: mdurl~=0.1 in c:\\users\\jespe\\apps\\lib\\site-packages (from markdown-it-py>=2.2.0->rich->keras>=3.5.0->tensorflow-intel==2.18.0->tensorflow==2.18.0) (0.1.2)\n",
      "Note: you may need to restart the kernel to use updated packages.\n"
     ]
    },
    {
     "name": "stderr",
     "output_type": "stream",
     "text": [
      "WARNING: Ignoring invalid distribution -cikit-learn (c:\\users\\jespe\\apps\\lib\\site-packages)\n",
      "WARNING: Ignoring invalid distribution -cikit-learn (c:\\users\\jespe\\apps\\lib\\site-packages)\n",
      "WARNING: Ignoring invalid distribution -cikit-learn (c:\\users\\jespe\\apps\\lib\\site-packages)\n"
     ]
    },
    {
     "name": "stdout",
     "output_type": "stream",
     "text": [
      "Requirement already satisfied: alibi==0.9.6 in c:\\users\\jespe\\apps\\lib\\site-packages (0.9.6)\n",
      "Requirement already satisfied: numpy<2.0.0,>=1.16.2 in c:\\users\\jespe\\apps\\lib\\site-packages (from alibi==0.9.6) (1.26.4)\n",
      "Requirement already satisfied: pandas<3.0.0,>=1.0.0 in c:\\users\\jespe\\apps\\lib\\site-packages (from alibi==0.9.6) (2.2.2)\n",
      "Requirement already satisfied: scikit-learn<2.0.0,>=1.0.0 in c:\\users\\jespe\\apps\\lib\\site-packages (from alibi==0.9.6) (1.6.1)\n",
      "Requirement already satisfied: spacy<4.0.0,>=2.0.0 in c:\\users\\jespe\\apps\\lib\\site-packages (from spacy[lookups]<4.0.0,>=2.0.0->alibi==0.9.6) (3.7.2)\n",
      "Requirement already satisfied: blis<0.8.0 in c:\\users\\jespe\\apps\\lib\\site-packages (from alibi==0.9.6) (0.7.11)\n",
      "Requirement already satisfied: scikit-image<0.23,>=0.17.2 in c:\\users\\jespe\\apps\\lib\\site-packages (from alibi==0.9.6) (0.19.2)\n",
      "Requirement already satisfied: requests<3.0.0,>=2.21.0 in c:\\users\\jespe\\apps\\lib\\site-packages (from alibi==0.9.6) (2.28.1)\n",
      "Requirement already satisfied: Pillow<11.0,>=5.4.1 in c:\\users\\jespe\\apps\\lib\\site-packages (from alibi==0.9.6) (9.2.0)\n",
      "Requirement already satisfied: attrs<24.0.0,>=19.2.0 in c:\\users\\jespe\\apps\\lib\\site-packages (from alibi==0.9.6) (21.4.0)\n",
      "Requirement already satisfied: scipy<2.0.0,>=1.1.0 in c:\\users\\jespe\\apps\\lib\\site-packages (from alibi==0.9.6) (1.13.1)\n",
      "Requirement already satisfied: matplotlib<4.0.0,>=3.0.0 in c:\\users\\jespe\\apps\\lib\\site-packages (from alibi==0.9.6) (3.5.2)\n",
      "Requirement already satisfied: typing-extensions>=3.7.4.3 in c:\\users\\jespe\\apps\\lib\\site-packages (from alibi==0.9.6) (4.10.0)\n",
      "Requirement already satisfied: dill<0.4.0,>=0.3.0 in c:\\users\\jespe\\apps\\lib\\site-packages (from alibi==0.9.6) (0.3.4)\n",
      "Requirement already satisfied: transformers<5.0.0,>=4.7.0 in c:\\users\\jespe\\apps\\lib\\site-packages (from alibi==0.9.6) (4.51.3)\n",
      "Requirement already satisfied: tqdm<5.0.0,>=4.28.1 in c:\\users\\jespe\\apps\\lib\\site-packages (from alibi==0.9.6) (4.67.1)\n",
      "Requirement already satisfied: cycler>=0.10 in c:\\users\\jespe\\apps\\lib\\site-packages (from matplotlib<4.0.0,>=3.0.0->alibi==0.9.6) (0.11.0)\n",
      "Requirement already satisfied: fonttools>=4.22.0 in c:\\users\\jespe\\apps\\lib\\site-packages (from matplotlib<4.0.0,>=3.0.0->alibi==0.9.6) (4.25.0)\n",
      "Requirement already satisfied: kiwisolver>=1.0.1 in c:\\users\\jespe\\apps\\lib\\site-packages (from matplotlib<4.0.0,>=3.0.0->alibi==0.9.6) (1.4.2)\n",
      "Requirement already satisfied: packaging>=20.0 in c:\\users\\jespe\\apps\\lib\\site-packages (from matplotlib<4.0.0,>=3.0.0->alibi==0.9.6) (24.0)\n",
      "Requirement already satisfied: pyparsing>=2.2.1 in c:\\users\\jespe\\apps\\lib\\site-packages (from matplotlib<4.0.0,>=3.0.0->alibi==0.9.6) (3.0.9)\n",
      "Requirement already satisfied: python-dateutil>=2.7 in c:\\users\\jespe\\apps\\lib\\site-packages (from matplotlib<4.0.0,>=3.0.0->alibi==0.9.6) (2.8.2)\n",
      "Requirement already satisfied: pytz>=2020.1 in c:\\users\\jespe\\apps\\lib\\site-packages (from pandas<3.0.0,>=1.0.0->alibi==0.9.6) (2022.1)\n",
      "Requirement already satisfied: tzdata>=2022.7 in c:\\users\\jespe\\apps\\lib\\site-packages (from pandas<3.0.0,>=1.0.0->alibi==0.9.6) (2024.1)\n",
      "Requirement already satisfied: charset-normalizer<3,>=2 in c:\\users\\jespe\\apps\\lib\\site-packages (from requests<3.0.0,>=2.21.0->alibi==0.9.6) (2.0.4)\n",
      "Requirement already satisfied: idna<4,>=2.5 in c:\\users\\jespe\\apps\\lib\\site-packages (from requests<3.0.0,>=2.21.0->alibi==0.9.6) (3.3)\n",
      "Requirement already satisfied: urllib3<1.27,>=1.21.1 in c:\\users\\jespe\\apps\\lib\\site-packages (from requests<3.0.0,>=2.21.0->alibi==0.9.6) (1.26.11)\n",
      "Requirement already satisfied: certifi>=2017.4.17 in c:\\users\\jespe\\apps\\lib\\site-packages (from requests<3.0.0,>=2.21.0->alibi==0.9.6) (2022.9.14)\n",
      "Requirement already satisfied: networkx>=2.2 in c:\\users\\jespe\\apps\\lib\\site-packages (from scikit-image<0.23,>=0.17.2->alibi==0.9.6) (2.8.4)\n",
      "Requirement already satisfied: imageio>=2.4.1 in c:\\users\\jespe\\apps\\lib\\site-packages (from scikit-image<0.23,>=0.17.2->alibi==0.9.6) (2.19.3)\n",
      "Requirement already satisfied: tifffile>=2019.7.26 in c:\\users\\jespe\\apps\\lib\\site-packages (from scikit-image<0.23,>=0.17.2->alibi==0.9.6) (2021.7.2)\n",
      "Requirement already satisfied: PyWavelets>=1.1.1 in c:\\users\\jespe\\apps\\lib\\site-packages (from scikit-image<0.23,>=0.17.2->alibi==0.9.6) (1.3.0)\n",
      "Requirement already satisfied: joblib>=1.2.0 in c:\\users\\jespe\\apps\\lib\\site-packages (from scikit-learn<2.0.0,>=1.0.0->alibi==0.9.6) (1.4.2)\n",
      "Requirement already satisfied: threadpoolctl>=3.1.0 in c:\\users\\jespe\\apps\\lib\\site-packages (from scikit-learn<2.0.0,>=1.0.0->alibi==0.9.6) (3.6.0)\n",
      "Requirement already satisfied: spacy-legacy<3.1.0,>=3.0.11 in c:\\users\\jespe\\apps\\lib\\site-packages (from spacy<4.0.0,>=2.0.0->spacy[lookups]<4.0.0,>=2.0.0->alibi==0.9.6) (3.0.12)\n",
      "Requirement already satisfied: spacy-loggers<2.0.0,>=1.0.0 in c:\\users\\jespe\\apps\\lib\\site-packages (from spacy<4.0.0,>=2.0.0->spacy[lookups]<4.0.0,>=2.0.0->alibi==0.9.6) (1.0.5)\n",
      "Requirement already satisfied: murmurhash<1.1.0,>=0.28.0 in c:\\users\\jespe\\apps\\lib\\site-packages (from spacy<4.0.0,>=2.0.0->spacy[lookups]<4.0.0,>=2.0.0->alibi==0.9.6) (1.0.10)\n",
      "Requirement already satisfied: cymem<2.1.0,>=2.0.2 in c:\\users\\jespe\\apps\\lib\\site-packages (from spacy<4.0.0,>=2.0.0->spacy[lookups]<4.0.0,>=2.0.0->alibi==0.9.6) (2.0.8)\n",
      "Requirement already satisfied: preshed<3.1.0,>=3.0.2 in c:\\users\\jespe\\apps\\lib\\site-packages (from spacy<4.0.0,>=2.0.0->spacy[lookups]<4.0.0,>=2.0.0->alibi==0.9.6) (3.0.9)\n",
      "Requirement already satisfied: thinc<8.3.0,>=8.1.8 in c:\\users\\jespe\\apps\\lib\\site-packages (from spacy<4.0.0,>=2.0.0->spacy[lookups]<4.0.0,>=2.0.0->alibi==0.9.6) (8.2.3)\n",
      "Requirement already satisfied: wasabi<1.2.0,>=0.9.1 in c:\\users\\jespe\\apps\\lib\\site-packages (from spacy<4.0.0,>=2.0.0->spacy[lookups]<4.0.0,>=2.0.0->alibi==0.9.6) (1.1.2)\n",
      "Requirement already satisfied: srsly<3.0.0,>=2.4.3 in c:\\users\\jespe\\apps\\lib\\site-packages (from spacy<4.0.0,>=2.0.0->spacy[lookups]<4.0.0,>=2.0.0->alibi==0.9.6) (2.4.8)\n",
      "Requirement already satisfied: catalogue<2.1.0,>=2.0.6 in c:\\users\\jespe\\apps\\lib\\site-packages (from spacy<4.0.0,>=2.0.0->spacy[lookups]<4.0.0,>=2.0.0->alibi==0.9.6) (2.0.10)\n",
      "Requirement already satisfied: weasel<0.4.0,>=0.1.0 in c:\\users\\jespe\\apps\\lib\\site-packages (from spacy<4.0.0,>=2.0.0->spacy[lookups]<4.0.0,>=2.0.0->alibi==0.9.6) (0.3.4)\n",
      "Requirement already satisfied: typer<0.10.0,>=0.3.0 in c:\\users\\jespe\\apps\\lib\\site-packages (from spacy<4.0.0,>=2.0.0->spacy[lookups]<4.0.0,>=2.0.0->alibi==0.9.6) (0.9.0)\n",
      "Requirement already satisfied: smart-open<7.0.0,>=5.2.1 in c:\\users\\jespe\\apps\\lib\\site-packages (from spacy<4.0.0,>=2.0.0->spacy[lookups]<4.0.0,>=2.0.0->alibi==0.9.6) (5.2.1)\n",
      "Requirement already satisfied: pydantic!=1.8,!=1.8.1,<3.0.0,>=1.7.4 in c:\\users\\jespe\\apps\\lib\\site-packages (from spacy<4.0.0,>=2.0.0->spacy[lookups]<4.0.0,>=2.0.0->alibi==0.9.6) (2.6.3)\n",
      "Requirement already satisfied: jinja2 in c:\\users\\jespe\\apps\\lib\\site-packages (from spacy<4.0.0,>=2.0.0->spacy[lookups]<4.0.0,>=2.0.0->alibi==0.9.6) (2.11.3)\n",
      "Requirement already satisfied: setuptools in c:\\users\\jespe\\apps\\lib\\site-packages (from spacy<4.0.0,>=2.0.0->spacy[lookups]<4.0.0,>=2.0.0->alibi==0.9.6) (80.9.0)\n",
      "Requirement already satisfied: langcodes<4.0.0,>=3.2.0 in c:\\users\\jespe\\apps\\lib\\site-packages (from spacy<4.0.0,>=2.0.0->spacy[lookups]<4.0.0,>=2.0.0->alibi==0.9.6) (3.3.0)\n",
      "Requirement already satisfied: annotated-types>=0.4.0 in c:\\users\\jespe\\apps\\lib\\site-packages (from pydantic!=1.8,!=1.8.1,<3.0.0,>=1.7.4->spacy<4.0.0,>=2.0.0->spacy[lookups]<4.0.0,>=2.0.0->alibi==0.9.6) (0.6.0)\n",
      "Requirement already satisfied: pydantic-core==2.16.3 in c:\\users\\jespe\\apps\\lib\\site-packages (from pydantic!=1.8,!=1.8.1,<3.0.0,>=1.7.4->spacy<4.0.0,>=2.0.0->spacy[lookups]<4.0.0,>=2.0.0->alibi==0.9.6) (2.16.3)\n",
      "Requirement already satisfied: spacy-lookups-data<1.1.0,>=1.0.3 in c:\\users\\jespe\\apps\\lib\\site-packages (from spacy[lookups]<4.0.0,>=2.0.0->alibi==0.9.6) (1.0.5)\n",
      "Requirement already satisfied: confection<1.0.0,>=0.0.1 in c:\\users\\jespe\\apps\\lib\\site-packages (from thinc<8.3.0,>=8.1.8->spacy<4.0.0,>=2.0.0->spacy[lookups]<4.0.0,>=2.0.0->alibi==0.9.6) (0.1.4)\n",
      "Requirement already satisfied: colorama in c:\\users\\jespe\\apps\\lib\\site-packages (from tqdm<5.0.0,>=4.28.1->alibi==0.9.6) (0.4.6)\n",
      "Requirement already satisfied: filelock in c:\\users\\jespe\\apps\\lib\\site-packages (from transformers<5.0.0,>=4.7.0->alibi==0.9.6) (3.6.0)\n",
      "Requirement already satisfied: huggingface-hub<1.0,>=0.30.0 in c:\\users\\jespe\\apps\\lib\\site-packages (from transformers<5.0.0,>=4.7.0->alibi==0.9.6) (0.30.2)\n",
      "Requirement already satisfied: pyyaml>=5.1 in c:\\users\\jespe\\apps\\lib\\site-packages (from transformers<5.0.0,>=4.7.0->alibi==0.9.6) (6.0)\n",
      "Requirement already satisfied: regex!=2019.12.17 in c:\\users\\jespe\\apps\\lib\\site-packages (from transformers<5.0.0,>=4.7.0->alibi==0.9.6) (2022.7.9)\n",
      "Requirement already satisfied: tokenizers<0.22,>=0.21 in c:\\users\\jespe\\apps\\lib\\site-packages (from transformers<5.0.0,>=4.7.0->alibi==0.9.6) (0.21.1)\n",
      "Requirement already satisfied: safetensors>=0.4.3 in c:\\users\\jespe\\apps\\lib\\site-packages (from transformers<5.0.0,>=4.7.0->alibi==0.9.6) (0.5.3)\n",
      "Requirement already satisfied: fsspec>=2023.5.0 in c:\\users\\jespe\\apps\\lib\\site-packages (from huggingface-hub<1.0,>=0.30.0->transformers<5.0.0,>=4.7.0->alibi==0.9.6) (2025.3.2)\n",
      "Requirement already satisfied: click<9.0.0,>=7.1.1 in c:\\users\\jespe\\apps\\lib\\site-packages (from typer<0.10.0,>=0.3.0->spacy<4.0.0,>=2.0.0->spacy[lookups]<4.0.0,>=2.0.0->alibi==0.9.6) (8.0.4)\n",
      "Requirement already satisfied: cloudpathlib<0.17.0,>=0.7.0 in c:\\users\\jespe\\apps\\lib\\site-packages (from weasel<0.4.0,>=0.1.0->spacy<4.0.0,>=2.0.0->spacy[lookups]<4.0.0,>=2.0.0->alibi==0.9.6) (0.16.0)\n",
      "Requirement already satisfied: six>=1.5 in c:\\users\\jespe\\apps\\lib\\site-packages (from python-dateutil>=2.7->matplotlib<4.0.0,>=3.0.0->alibi==0.9.6) (1.16.0)\n",
      "Requirement already satisfied: MarkupSafe>=0.23 in c:\\users\\jespe\\apps\\lib\\site-packages (from jinja2->spacy<4.0.0,>=2.0.0->spacy[lookups]<4.0.0,>=2.0.0->alibi==0.9.6) (2.0.1)\n",
      "Note: you may need to restart the kernel to use updated packages.\n"
     ]
    },
    {
     "name": "stderr",
     "output_type": "stream",
     "text": [
      "WARNING: Ignoring invalid distribution -cikit-learn (c:\\users\\jespe\\apps\\lib\\site-packages)\n",
      "WARNING: Ignoring invalid distribution -cikit-learn (c:\\users\\jespe\\apps\\lib\\site-packages)\n",
      "WARNING: Ignoring invalid distribution -cikit-learn (c:\\users\\jespe\\apps\\lib\\site-packages)\n"
     ]
    }
   ],
   "source": [
    "#!pip install --upgrade pip setuptools\n",
    "%pip install numba==0.60.0 llvmlite==0.43.0 --user \n",
    "%pip install pandas==2.2.2\n",
    "%pip install tqdm==4.67.1\n",
    "%pip install scikit-learn==1.6.1\n",
    "%pip install torch\n",
    "%pip install tensorflow==2.18.0\n",
    "%pip install alibi==0.9.6 "
   ]
  },
  {
   "cell_type": "markdown",
   "id": "11274318",
   "metadata": {},
   "source": [
    "__Necessary imports:__"
   ]
  },
  {
   "cell_type": "code",
   "execution_count": 2,
   "id": "66702f4f",
   "metadata": {},
   "outputs": [
    {
     "name": "stderr",
     "output_type": "stream",
     "text": [
      "c:\\Users\\jespe\\Apps\\lib\\site-packages\\pandas\\core\\computation\\expressions.py:21: UserWarning: Pandas requires version '2.8.4' or newer of 'numexpr' (version '2.8.3' currently installed).\n",
      "  from pandas.core.computation.check import NUMEXPR_INSTALLED\n",
      "c:\\Users\\jespe\\Apps\\lib\\site-packages\\pandas\\core\\arrays\\masked.py:60: UserWarning: Pandas requires version '1.3.6' or newer of 'bottleneck' (version '1.3.5' currently installed).\n",
      "  from pandas.core import (\n"
     ]
    },
    {
     "name": "stdout",
     "output_type": "stream",
     "text": [
      "WARNING:tensorflow:From c:\\Users\\jespe\\Apps\\lib\\site-packages\\alibi\\explainers\\cem.py:35: The name tf.Session is deprecated. Please use tf.compat.v1.Session instead.\n",
      "\n"
     ]
    }
   ],
   "source": [
    "import pandas as pd\n",
    "import numpy as np\n",
    "import time\n",
    "\n",
    "from tqdm import tqdm\n",
    "from sklearn.feature_extraction.text import TfidfVectorizer\n",
    "from sklearn.model_selection import train_test_split\n",
    "from sklearn.linear_model import LogisticRegression\n",
    "from sklearn.ensemble import RandomForestClassifier\n",
    "from alibi.explainers import AnchorTabular\n",
    "from transformers import BertTokenizer, BertModel, BertForSequenceClassification, BertConfig\n",
    "import torch\n",
    "import matplotlib.pyplot as plt\n",
    "import seaborn as sns\n",
    "from pandas.errors import ParserError\n",
    "import string"
   ]
  },
  {
   "cell_type": "markdown",
   "id": "50d6d3ea",
   "metadata": {},
   "source": [
    "# Anchor explanations"
   ]
  },
  {
   "cell_type": "markdown",
   "id": "bcef8663",
   "metadata": {},
   "source": [
    "__Code for anchor explanation using text of the title example: (not used in report)__"
   ]
  },
  {
   "cell_type": "code",
   "execution_count": 4,
   "id": "246794e7",
   "metadata": {},
   "outputs": [
    {
     "name": "stdout",
     "output_type": "stream",
     "text": [
      "ParserError encountered with python engine, trying to skip bad lines.\n"
     ]
    },
    {
     "name": "stderr",
     "output_type": "stream",
     "text": [
      "Vectorizing: 100%|██████████| 1500/1500 [00:00<00:00, 11824.13it/s]\n"
     ]
    },
    {
     "name": "stdout",
     "output_type": "stream",
     "text": [
      "True class: fake\n",
      "Title of explained instance: MI Election Recount Nightmare: “Write-In” Votes For Bernie In Detroit Were Being Counted As Votes For Hillary…And More\n",
      "\n",
      "Prediction:(0 = real news, 1=  fake news):  1\n",
      "\n",
      "Anchor: ['said <= 0.00', 'com > 0.00', 'democrats <= 0.00']\n",
      "Precision: 0.9689119170984456\n",
      "Coverage: 0.07\n",
      "\n",
      "Total time taken: 67.87 seconds\n"
     ]
    }
   ],
   "source": [
    "from pandas.errors import ParserError\n",
    "# Start timer\n",
    "start_time = time.time()\n",
    "\n",
    "# Load and sample dataset early to save memory\n",
    "try:\n",
    "    df = pd.read_csv('WELFake_Dataset.csv', engine='python')\n",
    "except ParserError:\n",
    "    # skip lines causing errors ( this will only be a couple of instances)\n",
    "    print(\"ParserError encountered with python engine, trying to skip bad lines.\")\n",
    "    df = pd.read_csv('WELFake_Dataset.csv', engine = 'python', on_bad_lines='skip')\n",
    "#df = pd.read_csv('WELFake_Dataset.csv')\n",
    "df = df.dropna(subset=['title', 'text', 'label'])\n",
    "\n",
    "# Sample smaller subset for speed/memory\n",
    "df = df.sample(n=1500, random_state=42).reset_index(drop=True)\n",
    "\n",
    "# Limit to first 150 words per article to shorten input length\n",
    "df['text'] = df['text'].apply(lambda x: ' '.join(str(x).split()[:150]))\n",
    "#df['title'] = df['title'].apply(lambda x: ' '.join(str(x).split()[:150]))\n",
    "\n",
    "# Extract features and labels\n",
    "X = df['text'].values\n",
    "y = df['label'].values\n",
    "\n",
    "# Vectorize text\n",
    "vectorizer = TfidfVectorizer(max_features=500, stop_words='english')\n",
    "X_vec = vectorizer.fit_transform(tqdm(X, desc=\"Vectorizing\"))\n",
    "\n",
    "# Train-test split\n",
    "\n",
    "original_indices = np.arange(len(X)) # this allows to track original indices before split\n",
    "X_train, X_test, y_train, y_test, train_idx, test_idx= train_test_split(X_vec, y, original_indices, test_size=0.2, random_state=42)\n",
    "#X_train, X_test, y_train, y_test = train_test_split(X_vec, y, test_size=0.2, random_state=42)\n",
    "\n",
    "# Train model\n",
    "clf = RandomForestClassifier(n_estimators=100, random_state=42)\n",
    "clf.fit(X_train, y_train)\n",
    "\n",
    "# Prepare input for explanation\n",
    "X_dense = X_vec.toarray()\n",
    "X_test_dense = X_test.toarray()\n",
    "\n",
    "index_to_explain = 4\n",
    "instance = X_test_dense[index_to_explain].reshape(1, -1)\n",
    "true_index = test_idx[index_to_explain]\n",
    "\n",
    "\n",
    "predict_fn = lambda x: clf.predict(x)\n",
    "\n",
    "# Anchor explanation\n",
    "feature_names = vectorizer.get_feature_names_out()\n",
    "class_names = ['real', 'fake']\n",
    "\n",
    "explainer = AnchorTabular(predict_fn, feature_names)\n",
    "explainer.fit(X_dense[:500])\n",
    "\n",
    "print(f\"True class: {class_names[int(y_test[index_to_explain])]}\")\n",
    "print(f\"Title of explained instance: {df.loc[true_index, 'title']}\")\n",
    "print('\\nPrediction:(0 = real news, 1=  fake news): ', predict_fn(instance)[0])\n",
    "#print('\\nPrediction:(0 = real news, 1=  fake news): ', clf.predict(instance)[0])\n",
    "\n",
    "explanation = explainer.explain(\n",
    "    instance,\n",
    "    coverage_samples=100,\n",
    "    beam_size=3,\n",
    "    max_anchor_size=7,\n",
    "    stop_on_first=True\n",
    ")\n",
    "\n",
    "print(f\"\\nAnchor: {explanation.anchor}\")\n",
    "print(f\"Precision: {explanation.precision}\")\n",
    "print(f\"Coverage: {explanation.coverage}\")\n",
    "\n",
    "end_time = time.time()\n",
    "print(f\"\\nTotal time taken: {end_time - start_time:.2f} seconds\")\n"
   ]
  },
  {
   "cell_type": "markdown",
   "id": "748b1005",
   "metadata": {},
   "source": [
    "__code for Anchor explainer that explains predictions based on titles (used in report):__"
   ]
  },
  {
   "cell_type": "code",
   "execution_count": null,
   "id": "65548664",
   "metadata": {},
   "outputs": [
    {
     "name": "stderr",
     "output_type": "stream",
     "text": [
      "Vectorizing: 100%|██████████| 1500/1500 [00:00<00:00, 61396.83it/s]\n"
     ]
    },
    {
     "name": "stdout",
     "output_type": "stream",
     "text": [
      "True class: fake\n",
      "Title of explained instance: MI Election Recount Nightmare: “Write-In” Votes For Bernie In Detroit Were Being Counted As Votes For Hillary…And More\n",
      "\n",
      "Prediction:(0 = real news, 1=  fake news):  1\n",
      "\n",
      "Anchor: ['breitbart <= 0.00', 'bernie > 0.00']\n",
      "Precision: 1.0\n",
      "Coverage: 0.02\n",
      "\n",
      "Total time taken: 232.96 seconds\n"
     ]
    }
   ],
   "source": [
    "# Extract features and labels\n",
    "X = df['title'].values\n",
    "y = df['label'].values\n",
    "\n",
    "# Vectorize text\n",
    "vectorizer = TfidfVectorizer(max_features=500, stop_words='english')\n",
    "X_vec = vectorizer.fit_transform(tqdm(X, desc=\"Vectorizing\"))\n",
    "\n",
    "# Train-test split\n",
    "original_indices = np.arange(len(X)) # this allows to track original indices before split\n",
    "X_train, X_test, y_train, y_test, train_idx, test_idx = train_test_split(X_vec, y, original_indices, test_size=0.2, random_state=42)\n",
    "\n",
    "# Train model\n",
    "clf = RandomForestClassifier(n_estimators=100, random_state=42)\n",
    "clf.fit(X_train, y_train)\n",
    "\n",
    "# Prepare input for explanation\n",
    "X_dense = X_vec.toarray()\n",
    "X_test_dense = X_test.toarray()\n",
    "\n",
    "\n",
    "index_to_explain = 4\n",
    "#instance = X_dense[index_to_explain].reshape(1, -1)\n",
    "instance = X_test_dense[index_to_explain].reshape(1, -1)\n",
    "true_index = test_idx[index_to_explain]\n",
    "\n",
    "predict_fn = lambda x: clf.predict(x)\n",
    "\n",
    "# Anchor explanation\n",
    "feature_names = vectorizer.get_feature_names_out()\n",
    "class_names = ['real', 'fake']\n",
    "\n",
    "explainer = AnchorTabular(predict_fn, feature_names)\n",
    "explainer.fit(X_dense[:500])\n",
    "\n",
    "print(f\"True class: {class_names[int(y_test[index_to_explain])]}\")\n",
    "print(f\"Title of explained instance: {df.loc[true_index, 'title']}\")\n",
    "print('\\nPrediction:(0 = real news, 1=  fake news): ', predict_fn(instance)[0])\n",
    "\n",
    "explanation = explainer.explain(\n",
    "    instance,\n",
    "    coverage_samples=100,76\n",
    "    beam_size=3,\n",
    "    max_anchor_size=7,\n",
    "    stop_on_first=True\n",
    ")\n",
    "\n",
    "print(f\"\\nAnchor: {explanation.anchor}\")\n",
    "print(f\"Precision: {explanation.precision}\")\n",
    "print(f\"Coverage: {explanation.coverage}\")\n",
    "\n",
    "end_time = time.time()\n",
    "print(f\"\\nTotal time taken: {end_time - start_time:.2f} seconds\")"
   ]
  },
  {
   "cell_type": "markdown",
   "id": "bb60e465",
   "metadata": {},
   "source": [
    "# Attention-maps / attention based explanations:"
   ]
  },
  {
   "cell_type": "markdown",
   "id": "4f300975",
   "metadata": {},
   "source": []
  },
  {
   "cell_type": "markdown",
   "id": "b35dbd2b",
   "metadata": {},
   "source": [
    "__Code for training and plot of attention for example sentence__"
   ]
  },
  {
   "cell_type": "code",
   "execution_count": 6,
   "id": "ab1ade0d",
   "metadata": {},
   "outputs": [
    {
     "name": "stdout",
     "output_type": "stream",
     "text": [
      "ParserError encountered with python engine, trying to skip bad lines.\n"
     ]
    },
    {
     "name": "stderr",
     "output_type": "stream",
     "text": [
      "Some weights of BertForSequenceClassification were not initialized from the model checkpoint at bert-base-uncased and are newly initialized: ['classifier.bias', 'classifier.weight']\n",
      "You should probably TRAIN this model on a down-stream task to be able to use it for predictions and inference.\n"
     ]
    },
    {
     "name": "stdout",
     "output_type": "stream",
     "text": [
      "\n",
      " (tensor([[[ 0.1686, -0.2858, -0.3261,  ..., -0.0276,  0.0383,  0.1640],\n",
      "         [ 1.0170,  0.9652, -0.2520,  ..., -0.3816,  0.7396,  0.6605],\n",
      "         [ 0.4916, -0.2606,  0.5653,  ...,  0.7518, -0.2280,  0.1384],\n",
      "         ...,\n",
      "         [-0.3072,  0.6288, -0.1718,  ...,  0.4260,  0.5675,  0.5275],\n",
      "         [ 0.5235,  0.6732, -0.1521,  ..., -1.1120,  0.8231, -0.6102],\n",
      "         [-0.5129,  0.0944,  0.0777,  ..., -0.7099,  0.1934, -0.2207]]],\n",
      "       grad_fn=<NativeLayerNormBackward0>), tensor([[[ 1.2171e-01,  9.6526e-03, -1.4177e-01,  ...,  6.0990e-02,\n",
      "           4.7099e-02,  2.5192e-02],\n",
      "         [ 1.0974e+00,  3.3282e-01, -5.8724e-01,  ..., -2.7913e-01,\n",
      "           8.5187e-01,  1.1771e+00],\n",
      "         [ 5.5519e-01, -7.2058e-04,  5.9903e-01,  ...,  3.7075e-01,\n",
      "           2.0139e-01,  1.6845e-01],\n",
      "         ...,\n",
      "         [-1.3975e-01,  5.2967e-01, -2.8912e-01,  ...,  4.2091e-01,\n",
      "           2.5050e-01,  4.1035e-01],\n",
      "         [ 6.5404e-01,  4.8104e-01, -4.0532e-01,  ..., -1.3729e+00,\n",
      "           8.2977e-01, -9.8444e-01],\n",
      "         [-5.1741e-01,  2.3959e-02, -4.9908e-02,  ..., -6.0415e-01,\n",
      "           2.4392e-01, -2.4553e-01]]], grad_fn=<NativeLayerNormBackward0>), tensor([[[-0.0289, -0.1907, -0.1383,  ...,  0.0833,  0.0948, -0.0768],\n",
      "         [ 1.6330, -0.3909, -0.5368,  ...,  0.1526,  0.3777,  0.6115],\n",
      "         [ 0.6006,  0.5526,  0.3409,  ...,  0.0349,  0.4359,  0.6715],\n",
      "         ...,\n",
      "         [-0.1500,  0.0448, -0.0201,  ...,  0.3499, -0.1479,  0.0490],\n",
      "         [ 0.3132,  0.4465, -0.1375,  ..., -1.4065,  0.6007, -1.1755],\n",
      "         [-0.4217, -0.1304,  0.1303,  ..., -0.3050,  0.3051, -0.2644]]],\n",
      "       grad_fn=<NativeLayerNormBackward0>), tensor([[[ 0.0555, -0.2257, -0.0931,  ...,  0.0244,  0.1739,  0.0381],\n",
      "         [ 1.4961, -0.6687, -0.7102,  ...,  0.0800, -0.4286,  0.7840],\n",
      "         [ 0.6481, -0.0701, -0.1050,  ...,  0.1907,  0.5271,  0.5219],\n",
      "         ...,\n",
      "         [-0.0410, -0.1398, -0.3671,  ...,  0.3355, -0.2251, -0.0336],\n",
      "         [ 0.3008,  0.3705, -0.2193,  ..., -1.1876,  0.1798, -1.2118],\n",
      "         [-0.0879, -0.0984,  0.0840,  ..., -0.0296,  0.0737, -0.0397]]],\n",
      "       grad_fn=<NativeLayerNormBackward0>), tensor([[[ 0.0690, -0.6574, -0.4025,  ...,  0.0439,  0.2724,  0.2442],\n",
      "         [ 1.0150, -0.7915, -0.7723,  ...,  0.4932, -0.5185,  0.6144],\n",
      "         [ 0.8105, -0.3488,  0.0635,  ...,  0.4455,  0.4831,  0.2867],\n",
      "         ...,\n",
      "         [ 0.4403, -0.6949,  0.3457,  ...,  0.2348, -0.2678, -0.4383],\n",
      "         [ 0.6537, -0.0788, -0.7186,  ..., -0.9595,  0.0706, -1.1056],\n",
      "         [-0.0297, -0.0530,  0.0042,  ..., -0.0210,  0.0568, -0.0327]]],\n",
      "       grad_fn=<NativeLayerNormBackward0>), tensor([[[-0.0808, -0.6558, -0.4372,  ..., -0.1125,  0.2696,  0.4079],\n",
      "         [ 1.1952, -1.0656, -0.7794,  ...,  0.9597, -0.4865,  0.5139],\n",
      "         [ 0.6291, -0.4455, -0.2977,  ...,  0.9377,  0.2430,  0.1504],\n",
      "         ...,\n",
      "         [ 0.4700, -1.0025,  0.5038,  ...,  0.5992, -0.2221, -0.3361],\n",
      "         [ 0.5007, -0.1911, -0.5655,  ..., -0.9470,  0.0064, -1.0538],\n",
      "         [-0.0189, -0.0351,  0.0257,  ...,  0.0017,  0.0093, -0.0387]]],\n",
      "       grad_fn=<NativeLayerNormBackward0>), tensor([[[ 0.0878, -1.1127, -0.6176,  ..., -0.3140,  0.5214,  0.4751],\n",
      "         [ 1.2161, -0.9588, -0.1688,  ...,  0.5382, -0.6574,  0.4922],\n",
      "         [ 0.8959, -0.4101,  0.0802,  ...,  0.7352, -0.1284, -0.0056],\n",
      "         ...,\n",
      "         [ 0.6349, -0.7498,  0.1082,  ...,  0.6668, -0.4758, -0.4361],\n",
      "         [ 0.6559, -0.2310, -0.7007,  ..., -0.9528,  0.3510, -0.7854],\n",
      "         [ 0.0177, -0.0380, -0.0165,  ..., -0.0040, -0.0106, -0.0373]]],\n",
      "       grad_fn=<NativeLayerNormBackward0>), tensor([[[-1.8761e-02, -1.4668e+00, -6.8346e-01,  ..., -4.6615e-01,\n",
      "           4.3471e-01,  5.1435e-01],\n",
      "         [ 1.1769e+00, -9.7084e-01,  1.6109e-01,  ...,  6.8486e-01,\n",
      "          -5.1720e-01,  8.8226e-01],\n",
      "         [ 5.2818e-01, -7.1453e-01,  3.9035e-01,  ...,  6.1115e-01,\n",
      "           2.9266e-01,  5.6211e-01],\n",
      "         ...,\n",
      "         [ 7.0351e-01, -3.4135e-01,  2.5680e-01,  ...,  4.2332e-01,\n",
      "           3.6469e-01, -5.2856e-01],\n",
      "         [ 8.3296e-01, -1.1711e+00, -3.9041e-01,  ..., -9.3574e-01,\n",
      "           1.2583e+00, -4.0332e-01],\n",
      "         [ 3.3669e-04, -3.3806e-02, -1.1718e-02,  ..., -2.7786e-02,\n",
      "           2.1772e-02, -3.5210e-02]]], grad_fn=<NativeLayerNormBackward0>), tensor([[[ 0.1738, -1.2230, -0.7291,  ..., -0.4029,  0.2138,  0.5766],\n",
      "         [ 0.7465, -0.5724, -0.1985,  ...,  0.7627, -0.9402,  0.6079],\n",
      "         [ 0.4996, -0.7244, -0.0365,  ...,  0.5465,  0.1797,  0.2416],\n",
      "         ...,\n",
      "         [ 0.6685, -0.4537, -0.1147,  ...,  0.7350,  0.5830, -0.4269],\n",
      "         [-0.1612, -0.8714, -0.8454,  ..., -0.4866,  1.3033, -0.7935],\n",
      "         [ 0.0203, -0.0260, -0.0036,  ..., -0.0326, -0.0336, -0.0639]]],\n",
      "       grad_fn=<NativeLayerNormBackward0>), tensor([[[ 0.0244, -0.7885, -0.5472,  ..., -0.0626,  0.3095,  0.4218],\n",
      "         [ 0.4705, -0.4905, -0.1446,  ...,  0.4378, -0.7497,  0.4816],\n",
      "         [ 0.4348, -0.7384,  0.3391,  ...,  0.4108, -0.0379,  0.3810],\n",
      "         ...,\n",
      "         [ 0.3063, -0.5526,  0.0557,  ...,  1.0245,  0.6396, -0.8832],\n",
      "         [-0.7579, -0.7043, -0.7340,  ..., -0.2998,  1.2976, -1.0016],\n",
      "         [ 0.0164, -0.0087,  0.0082,  ..., -0.0381, -0.0467, -0.0622]]],\n",
      "       grad_fn=<NativeLayerNormBackward0>), tensor([[[-0.2717, -1.0105, -0.2835,  ...,  0.2715, -0.0619,  0.5807],\n",
      "         [ 0.3175, -0.5965, -0.2093,  ...,  0.3070, -0.9817,  0.4764],\n",
      "         [ 0.2023, -1.0213, -0.0127,  ...,  0.1846, -0.1926,  0.4293],\n",
      "         ...,\n",
      "         [ 0.3733, -0.8104,  0.3741,  ...,  1.2799,  0.4008, -1.0915],\n",
      "         [-0.9111, -0.8661, -0.5586,  ..., -0.0789,  1.2133, -1.2496],\n",
      "         [-0.0298, -0.0212, -0.0626,  ...,  0.1231, -0.0190, -0.0158]]],\n",
      "       grad_fn=<NativeLayerNormBackward0>), tensor([[[-0.2723, -0.8048, -0.2327,  ...,  0.0943,  0.0110,  0.3418],\n",
      "         [ 0.1513, -0.3386, -0.5987,  ...,  0.4425, -0.8405,  0.6491],\n",
      "         [ 0.3746, -1.0785,  0.1748,  ..., -0.0611, -0.1306,  0.8290],\n",
      "         ...,\n",
      "         [ 0.0553, -0.7014,  0.4813,  ...,  0.9545,  0.9427, -0.8295],\n",
      "         [-1.1213, -1.2021, -0.4388,  ...,  0.0235,  0.7083, -1.2489],\n",
      "         [ 0.0258,  0.0381, -0.0164,  ...,  0.0135, -0.0062,  0.0178]]],\n",
      "       grad_fn=<NativeLayerNormBackward0>), tensor([[[-0.0878, -0.1185, -0.1258,  ..., -0.0963,  0.1694,  0.5830],\n",
      "         [ 0.1278, -0.0065,  0.0482,  ...,  0.2485, -0.3289,  0.5637],\n",
      "         [-0.0783, -0.6969,  0.0671,  ...,  0.0738,  0.2133,  0.4206],\n",
      "         ...,\n",
      "         [-0.2691, -0.1706,  0.7521,  ...,  0.6210,  0.5892, -0.1682],\n",
      "         [-0.4500, -0.3820, -0.1047,  ...,  0.1772,  0.6246, -0.3549],\n",
      "         [ 0.5281,  0.4121, -0.0425,  ...,  0.0238, -0.5038, -0.0541]]],\n",
      "       grad_fn=<NativeLayerNormBackward0>))\n",
      "[0.09734917 0.06471179 0.0388783  0.00106027 0.01507505 0.00814493\n",
      " 0.02576547 0.02440893 0.06143324 0.01121051 0.01620157 0.02447271\n",
      " 0.05970148 0.02007763 0.07507671 0.02039859 0.00799837 0.04568653\n",
      " 0.00935751 0.01149061 0.00959781 0.03374782 0.01223707 0.14054409\n",
      " 0.03545408 0.00778086 0.005474   0.1166649 ]\n"
     ]
    },
    {
     "data": {
      "image/png": "[encoded data removed]",
      "text/plain": [
       "<Figure size 1800x900 with 2 Axes>"
      ]
     },
     "metadata": {},
     "output_type": "display_data"
    },
    {
     "name": "stdout",
     "output_type": "stream",
     "text": [
      "According to the dataset, this post inclucded or was fake news\n",
      "example prediction: fake\n"
     ]
    }
   ],
   "source": [
    "# This model (bert-base-uncased) is not trained for prediction, so it just shows a random prediction and the output weights of the hidden state of the model ( which just represents how much semantical weight words have)\n",
    "# this is not an accurate representation of the attention the model would have for prediction of real vs fake, but it does show what a visualisation of attention of real vs fake news classification would look like\n",
    "# an attention-based explanation would look like. ( we can use the visualisation as demonstration of how it aligns with human intuition, therefore I still used it)\n",
    "#\n",
    "from transformers import BertConfig\n",
    "\n",
    "try:\n",
    "    df = pd.read_csv('WELFake_Dataset.csv', engine='python')\n",
    "except ParserError:\n",
    "    # skip lines causing errors ( this will only be a couple of instances)\n",
    "    print(\"ParserError encountered with python engine, trying to skip bad lines.\")\n",
    "    df = pd.read_csv('WELFake_Dataset.csv', engine = 'python', on_bad_lines='skip')\n",
    "   \n",
    "    \n",
    "df = df.dropna(subset=['title', 'text', 'label'])  # make sure no missing data\n",
    "\n",
    "df = df.sample(n=1500, random_state=42).reset_index(drop=True) # not necessary for this method, but still done so explanation can be shown for the same example instance\n",
    "\n",
    "X = df['title'].values\n",
    "y = df['label'].values  # assume binary: 1 = fake, 0 = real\n",
    "\n",
    "X_train, X_test, y_train, y_test = train_test_split(X, y, test_size=0.2, random_state=42)\n",
    "\n",
    "index_explained_text = 4\n",
    "text_to_explain = X_test[index_explained_text]\n",
    "text_to_explain = text_to_explain[:1500] # limits long title to max length\n",
    "\n",
    "\n",
    "config = BertConfig.from_pretrained(\"bert-base-uncased\", output_hidden_states = True, output_attentions = True)\n",
    "model = BertForSequenceClassification.from_pretrained(\"bert-base-uncased\", config = config)\n",
    "\n",
    "tokenizer = BertTokenizer.from_pretrained(\"bert-base-uncased\")\n",
    "\n",
    "text = text_to_explain # makesit so\n",
    "\n",
    "# Tokenize and pass through model\n",
    "inputs = tokenizer(text, return_tensors=\"pt\", truncation=True, padding=True)\n",
    "outputs = model(**inputs)\n",
    "\n",
    "logits = outputs.logits  # Raw prediction scores\n",
    "predicted_class = torch.argmax(logits, dim=1).item()\n",
    "\n",
    "\n",
    "last_hidden_states = outputs.hidden_states\n",
    "print(\"\\n\",last_hidden_states)\n",
    "\n",
    "# Getting attention maps\n",
    "attention = outputs.attentions  # List of layers with attention weights\n",
    "attention_map = attention[-1][0]  # Last layer's attention for first head\n",
    "\n",
    "# Visualizing attention to [CLS] token\n",
    "cls_attention = attention_map[0][0].detach().numpy()\n",
    "print(cls_attention)  # Attention scores from [CLS] to each token\n",
    "\n",
    "\n",
    "\n",
    "# Prepare tokens for labeling\n",
    "tokens = tokenizer.convert_ids_to_tokens(inputs['input_ids'][0])\n",
    "\n",
    "\n",
    "#Plots the attention map to visualize how much the model attends to the [CLS] token\n",
    "plt.figure(figsize=(18, 9))\n",
    "sns.heatmap(cls_attention.reshape(1, -1), cmap='Blues', cbar_kws={'label': 'Attention Score'}, xticklabels=tokens, yticklabels=[\"[CLS]\"], cbar=True)\n",
    "#sns.heatmap(cls_attention.reshape(1, -1),cmap = 'YlOrBr', cbar_kws={'label': 'Attention Score'}, xticklabels=tokens, yticklabels=[\"[CLS]\"], cbar=True)\n",
    "plt.title('Attention Map for [CLS] Token')\n",
    "plt.xticks(rotation=90)\n",
    "plt.xlabel('Tokens')\n",
    "plt.ylabel('Attention to [CLS]')\n",
    "plt.show()\n",
    "\n",
    "\n",
    "#print(\"Label:\", \"fake\" if y_test[index_explained_text] == 1 else \"real\")\n",
    "if y_test[index_explained_text] == 0:\n",
    "    print(\"according to the dataset, this post included or was real news\")\n",
    "else:\n",
    "    print(\"According to the dataset, this post inclucded or was fake news\")\n",
    "print(\"example prediction:\", \"fake\" if predicted_class == 1 else \"real\")"
   ]
  },
  {
   "cell_type": "markdown",
   "id": "e1d9fdbf",
   "metadata": {},
   "source": [
    "__Code for visualisation of example sentence used in report(sorted by attention to [CLS])__"
   ]
  },
  {
   "cell_type": "code",
   "execution_count": 7,
   "id": "e8f913f2",
   "metadata": {},
   "outputs": [
    {
     "name": "stdout",
     "output_type": "stream",
     "text": [
      "sorted attention scores from [CLS] token:\n",
      "\n",
      "Token           Score\n",
      "-------------------------\n",
      "hillary         0.1405\n",
      "[SEP]           0.1167\n",
      "[CLS]           0.0973\n",
      "bernie          0.0751\n",
      "mi              0.0647\n",
      "write           0.0614\n",
      "votes           0.0597\n",
      "were            0.0457\n",
      "election        0.0389\n",
      "…               0.0355\n",
      "votes           0.0337\n",
      "”               0.0245\n",
      "“               0.0244\n",
      "in              0.0204\n",
      "for             0.0201\n",
      "in              0.0162\n",
      "##ount          0.0151\n",
      "for             0.0122\n",
      "counted         0.0115\n",
      "as              0.0096\n",
      "being           0.0094\n",
      "nightmare       0.0081\n",
      "detroit         0.0080\n",
      "and             0.0078\n",
      "more            0.0055\n",
      "rec             0.0011\n"
     ]
    }
   ],
   "source": [
    "filtered_token_scores = []\n",
    "attention_new = cls_attention.copy()\n",
    "\n",
    "for i, token in enumerate(tokens):\n",
    "  if token in string.punctuation: # punctuation marks are just biased and show up in every text\n",
    "    continue\n",
    "  filtered_token_scores.append((token, attention_new[i]))\n",
    "\n",
    "sorted_tokens = sorted(filtered_token_scores, key=lambda x: x[1], reverse=True)\n",
    "\n",
    "#Formatting print to look like table\n",
    "print(f\"sorted attention scores from [CLS] token:\\n\")\n",
    "print(f\"{'Token':<15} {'Score'}\")\n",
    "print(\"-\" * 25) # for structure to separate scores and variables\n",
    "for token, score in sorted_tokens:\n",
    "      print(f\"{token:<15} {score:.4f}\")"
   ]
  },
  {
   "cell_type": "markdown",
   "id": "e88ed65f",
   "metadata": {},
   "source": [
    "__"
   ]
  }
 ],
 "metadata": {
  "kernelspec": {
   "display_name": "base",
   "language": "python",
   "name": "python3"
  },
  "language_info": {
   "codemirror_mode": {
    "name": "ipython",
    "version": 3
   },
   "file_extension": ".py",
   "mimetype": "text/x-python",
   "name": "python",
   "nbconvert_exporter": "python",
   "pygments_lexer": "ipython3",
   "version": "3.9.13"
  }
 },
 "nbformat": 4,
 "nbformat_minor": 5
}
